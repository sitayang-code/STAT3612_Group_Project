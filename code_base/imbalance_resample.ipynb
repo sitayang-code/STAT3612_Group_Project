{
  "nbformat": 4,
  "nbformat_minor": 0,
  "metadata": {
    "colab": {
      "provenance": []
    },
    "kernelspec": {
      "name": "python3",
      "display_name": "Python 3"
    },
    "language_info": {
      "name": "python"
    }
  },
  "cells": [
    {
      "cell_type": "code",
      "execution_count": 1,
      "metadata": {
        "id": "80Bx75kZ6-Zm"
      },
      "outputs": [],
      "source": [
        "# adjust_imbalance.py\n",
        "# To address class imbalance problem for training set by oversampling the minority class\n",
        "# pip install -U threadpoolctl to debug if necessary\n",
        "\n",
        "from collections import Counter\n",
        "from imblearn.over_sampling import RandomOverSampler\n",
        "from imblearn.under_sampling import RandomUnderSampler\n",
        "\n",
        "def adjust_imbalance(x, y, method='under'):\n",
        "    if method == 'over':\n",
        "        sampler = RandomOverSampler(random_state=36)\n",
        "    elif method == 'under':\n",
        "        sampler = RandomUnderSampler(random_state=36)\n",
        "    else:\n",
        "        raise ValueError(\"The method parameter is invalid. Please choose either 'over' or 'under'.\")\n",
        "    print(f'Original dataset shape {Counter(y)}')\n",
        "    x_resampled, y_resampled = sampler.fit_resample(x, y)\n",
        "    print(f'Resampled dataset shape {Counter(y_resampled)}')\n",
        "    return x_resampled, y_resampled\n"
      ]
    }
  ]
}