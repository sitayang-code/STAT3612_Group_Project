{
 "cells": [
  {
   "cell_type": "code",
   "execution_count": 1,
   "id": "1e080fe4-b4ee-4ec3-94cf-221244b2d6c1",
   "metadata": {},
   "outputs": [],
   "source": [
    "# feature_std.py\n",
    "# standardization of numerical features\n",
    "\n",
    "from sklearn.preprocessing import StandardScaler\n",
    "\n",
    "def feature_std(x_train, x_test, num_cols):\n",
    "    scaler = StandardScaler()\n",
    "    for col in num_cols:\n",
    "        if col in x_train.columns:\n",
    "            x_train[col] = scaler.fit_transform(x_train[[col]])\n",
    "            if col in x_test.columns:\n",
    "                x_test[col] = scaler.transform(x_test[[col]])\n",
    "    return x_train, x_test"
   ]
  },
  {
   "cell_type": "code",
   "execution_count": null,
   "id": "b27e0377-1685-4bc7-a97d-6dca43c1f3b4",
   "metadata": {},
   "outputs": [],
   "source": []
  }
 ],
 "metadata": {
  "kernelspec": {
   "display_name": "Python 3 (ipykernel)",
   "language": "python",
   "name": "python3"
  },
  "language_info": {
   "codemirror_mode": {
    "name": "ipython",
    "version": 3
   },
   "file_extension": ".py",
   "mimetype": "text/x-python",
   "name": "python",
   "nbconvert_exporter": "python",
   "pygments_lexer": "ipython3",
   "version": "3.12.4"
  }
 },
 "nbformat": 4,
 "nbformat_minor": 5
}
