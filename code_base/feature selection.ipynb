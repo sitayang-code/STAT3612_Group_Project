{
  "nbformat": 4,
  "nbformat_minor": 0,
  "metadata": {
    "colab": {
      "provenance": []
    },
    "kernelspec": {
      "name": "python3",
      "display_name": "Python 3"
    },
    "language_info": {
      "name": "python"
    }
  },
  "cells": [
    {
      "cell_type": "code",
      "execution_count": null,
      "metadata": {
        "id": "IGVio-F4284c"
      },
      "outputs": [],
      "source": [
        "# feature_selection.py\n",
        "# Select features by F-score or P-value\n",
        "\n",
        "from sklearn.feature_selection import f_classif\n",
        "import pandas as pd\n",
        "\n",
        "def select_features(x, y, method='f_score', n_features=100, p_value_threshold=0.05):\n",
        "    f_values, p_values = f_classif(x, y)\n",
        "\n",
        "    if method == 'f_score':\n",
        "        # DataFrame with F-scores\n",
        "        f_scores_df = pd.DataFrame({'feature': x.columns, 'f_score': f_values})\n",
        "        # Sort features and select the top N\n",
        "        top_features = f_scores_df.nlargest(n_features, 'f_score')['feature']\n",
        "        return x[top_features]\n",
        "\n",
        "    elif method == 'p_value':\n",
        "        # DataFrame with P-values\n",
        "        p_values_df = pd.DataFrame({'feature': x.columns, 'p_value': p_values})\n",
        "        # Select features with P-values below the threshold\n",
        "        selected_features = p_values_df[p_values_df['p_value'] < p_value_threshold]['feature']\n",
        "        return x[selected_features]\n",
        "\n",
        "# Sample usage:\n",
        "# X_train_selected = select_features(X_train, y_train, method='p_value')\n"
      ]
    }
  ]
}