{
 "cells": [
  {
   "cell_type": "code",
   "execution_count": null,
   "metadata": {
    "id": "IGVio-F4284c"
   },
   "outputs": [],
   "source": [
    "# feature_selection.py\n",
    "# Select features by F-score or P-value\n",
    "\n",
    "import pandas as pd\n",
    "from sklearn.feature_selection import f_classif\n",
    "\n",
    "def select_features(X_train, y_train, X_test, method='f_score', n_features=100, p_value_threshold=0.05):\n",
    "\n",
    "    # Perform feature selection\n",
    "    f_values, p_values = f_classif(X_train, y_train)\n",
    "    # delete the repeated columns from train and test\n",
    "    X_train = X_train.loc[:, ~X_train.columns.duplicated()]\n",
    "    X_test = X_test.loc[:, ~X_test.columns.duplicated()]\n",
    "\n",
    "\n",
    "    if X_train.columns.duplicated().any():\n",
    "        print(\"Warning: Duplicate feature names found in training data.\")\n",
    "    \n",
    "    if method == 'f_score':\n",
    "        # Select top n_features based on F-score\n",
    "        f_scores = dict(zip(X_train.columns, f_values))\n",
    "        top_features = sorted(f_scores, key=f_scores.get, reverse=True)[:n_features]\n",
    "    elif method == 'p_value':\n",
    "        # Select features based on p-value\n",
    "        p_values_dict = dict(zip(X_train.columns, p_values))\n",
    "        top_features = [feature for feature, p_value in p_values_dict.items() if p_value < p_value_threshold]\n",
    "    else:\n",
    "        raise ValueError(\"Method must be 'f_score' or 'p_value'\")\n",
    "\n",
    "    # Select the features in both train and test sets\n",
    "    X_train_selected = X_train[top_features]\n",
    "    X_test_selected = X_test[top_features].copy()\n",
    "\n",
    "\n",
    "    return X_train_selected, X_test_selected\n",
    "\n",
    "\n",
    "# Sample usage:\n",
    "# X_train, X_test = select_features(X_train, y_train, X_test, method='p_value')\n"
   ]
  }
 ],
 "metadata": {
  "colab": {
   "provenance": []
  },
  "kernelspec": {
   "display_name": "Python 3",
   "name": "python3"
  },
  "language_info": {
   "name": "python"
  }
 },
 "nbformat": 4,
 "nbformat_minor": 0
}
